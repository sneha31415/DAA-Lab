{
  "nbformat": 4,
  "nbformat_minor": 0,
  "metadata": {
    "colab": {
      "provenance": []
    },
    "kernelspec": {
      "name": "python3",
      "display_name": "Python 3"
    },
    "language_info": {
      "name": "python"
    }
  },
  "cells": [
    {
      "cell_type": "markdown",
      "source": [
        "Name:   **Singh Sneha Muneshwar**\n",
        "\n",
        "Roll Number: **231081067**\n",
        "\n",
        "Section: **SY B-Tech IT**\n"
      ],
      "metadata": {
        "id": "BXm5i8tg8oJc"
      }
    },
    {
      "cell_type": "markdown",
      "source": [
        "# Date : 17 - 08 - 2024\n",
        "\n",
        "\n",
        "---\n",
        "\n",
        "\n",
        "## Classwork submission 1\n",
        "\n",
        "# Question.1.\n",
        "## Implement various searching algorithms and exercises using searching algorithms\n",
        "- Linear Search\n",
        "- Binary Search"
      ],
      "metadata": {
        "id": "s5QPPsvU8b3X"
      }
    },
    {
      "cell_type": "markdown",
      "source": [
        "### **Linear Search**\n",
        "\n",
        "Linear search is a basic search algorithm that <u>iterates through each element</u> in a list, checking if it matches the target value. It's simple to implement but can be slow for large lists.\n",
        "\n",
        "<b>Algorithm:</b>\n",
        "\n",
        "1) Start from the `first element` of the array.\n",
        "\n",
        "2) Compare the `target` value with the current element.\n",
        "\n",
        "3) If it matches, return the `index`.\n",
        "\n",
        "4) If not, move to the next element.\n",
        "\n",
        "5) Repeat steps 2-4 until you find the target or reach the end of the array.\n",
        "\n",
        "6) Return `-1` if element is not found till step 5\n",
        "<br>\n",
        "\n",
        "<b>Time and Space Complexity</b>\n",
        "\n",
        "* <u>Time Complexity</u> : O(n)<br>\n",
        "Linear search runs in linear time and makes a maximum of n comparisons, where n is the length of the list. Hence, the computational complexity for linear search is O(N).\n",
        "The running time increases, at most, linearly with the size of the items present in the list.\n",
        "\n",
        "* <u>Space Complexity</u> : O(1)"
      ],
      "metadata": {
        "id": "k4sp0DLD8zXQ"
      }
    },
    {
      "cell_type": "markdown",
      "source": [
        "Code for linear search"
      ],
      "metadata": {
        "id": "hTnt-0KR83kn"
      }
    },
    {
      "cell_type": "code",
      "execution_count": null,
      "metadata": {
        "id": "VzF3-_Bf8TPI"
      },
      "outputs": [],
      "source": [
        "def linear_search(nums, target):\n",
        "    for i in range(len(nums)): # iterate linearly over the list\n",
        "        if nums[i] == target: # found the target\n",
        "            return i  # return the index of the target element\n",
        "    return -1  # return -1 if the target element is not found\n"
      ]
    },
    {
      "cell_type": "markdown",
      "source": [
        " Example usage"
      ],
      "metadata": {
        "id": "t6FHEyhn885o"
      }
    },
    {
      "cell_type": "code",
      "source": [
        "nums = [2, 0, 2, -1, 34, 10, 5]\n",
        "target = 5\n",
        "target_index = linear_search(nums, target)\n",
        "\n",
        "if target_index != -1:\n",
        "    print(f\"Target element {target} found at index {target_index}\")\n",
        "else:\n",
        "    print(f\"Target element {target} is not present in array\")"
      ],
      "metadata": {
        "colab": {
          "base_uri": "https://localhost:8080/"
        },
        "id": "0E1aQQYe853N",
        "outputId": "c3b20784-b3f0-4261-c954-06417b8fdef8"
      },
      "execution_count": null,
      "outputs": [
        {
          "output_type": "stream",
          "name": "stdout",
          "text": [
            "Target element 5 found at index 6\n"
          ]
        }
      ]
    },
    {
      "cell_type": "markdown",
      "source": [
        "### **Binary Search**\n",
        "\n",
        "Binary search is a more efficient search algorithm compared to linear search but requires that the **list be sorted** beforehand.\n",
        "\n",
        "It works by repeatedly dividing the search interval in half, making it much faster for large lists.\n",
        "\n",
        "<b>Algorithm:</b>\n",
        "\n",
        "1) **Start with the entire sorted list.** Initialize two pointers: `left` (the start of the list) and `right` (the end of the list).\n",
        "\n",
        "2) **Find the middle element** of the current interval by calculating `mid = left + (right - left) / 2`.\n",
        "\n",
        "3) **Compare the target value** with the middle element:\n",
        "   - If the target value is less than the middle element, **narrow the search to the left half** by setting `right` to `mid - 1`.\n",
        "   - If the target value is greater than the middle element, **narrow the search to the right half** by setting `left` to `mid + 1`.\n",
        "   - If it matches, **return the index** of the middle element.\n",
        "\n",
        "4) **Repeat steps 2-3** until the target value is found or the search interval is empty (`left > right`).\n",
        "\n",
        "5) If the search interval is empty, **return an indicator** that the target value is not in the list (e.g., `-1`).\n",
        "\n",
        "<b>Time and Space Complexity</b>\n",
        "\n",
        "* <u>Time Complexity</u> : O(log n)<br>\n",
        "Binary search operates in logarithmic time. Each comparison **halves the search interval**, resulting in a maximum of log₂(n) comparisons where n is the length of the list. This makes binary search much faster than linear search for large lists, provided the list is sorted.\n",
        "\n",
        "* <u>Space Complexity</u> : O(1) (Iterative implementation) / O(log n) (Recursive implementation)<br>\n",
        "For the iterative version of binary search, the space complexity is constant, O(1), because it only requires a fixed amount of extra space for variables.\n",
        "\n",
        "    For the recursive version, space complexity is O(log n) due to the stack space used by recursive function calls."
      ],
      "metadata": {
        "id": "SZegLaFd9DFS"
      }
    },
    {
      "cell_type": "markdown",
      "source": [
        "Code for Binary Search"
      ],
      "metadata": {
        "id": "f9oS4aNz9FxE"
      }
    },
    {
      "cell_type": "code",
      "source": [
        "## Iterative version\n",
        "\n",
        " #left and right are pointer variables\n",
        "def binarySearchIterative(target, array, left, right):\n",
        "    while left <= right:\n",
        "        mid = left + (right - left) // 2  # to avoid overflow\n",
        "        if target < array[mid]: #if the element at the mid is greater than the target, then target is present in the range (left, mid - 1)\n",
        "            right = mid - 1\n",
        "        elif target > array[mid]: #if the element at the mid is greater than the target, then target is present in the range (mid + 1, right)\n",
        "            left = mid + 1\n",
        "        else:                     #if the element at the mid is equal to target, return it\n",
        "            return mid\n",
        "    return -1    #element not found\n"
      ],
      "metadata": {
        "id": "Sk-eL1Ys8_Dl"
      },
      "execution_count": null,
      "outputs": []
    },
    {
      "cell_type": "code",
      "source": [
        "## Recursive Version\n",
        "\n",
        "def binarySearchRecursive(target, array, left, right):\n",
        "    if left > right:\n",
        "        return -1\n",
        "    mid = left + (right - left) // 2 #calculate the mid\n",
        "    if array[mid] > target:\n",
        "        binarySearchRecursive(target, array, left, mid - 1 )\n",
        "    elif array[mid] < target:\n",
        "        binarySearchRecursive(target, array, mid + 1, right)\n",
        "    else:\n",
        "        return mid"
      ],
      "metadata": {
        "id": "A3hJwgiK9HXe"
      },
      "execution_count": null,
      "outputs": []
    },
    {
      "cell_type": "markdown",
      "source": [
        "\n",
        "Example usage"
      ],
      "metadata": {
        "id": "RWMQgUva9Ljo"
      }
    },
    {
      "cell_type": "code",
      "source": [
        "array = [1,2,3,4,5,6]\n",
        "target = 3\n",
        "\n",
        "target_iterative =  binarySearchIterative(target, array, 0, len(array) - 1)\n",
        "target_recursive = binarySearchRecursive(target, array, 0, len(array) - 1)\n",
        "\n",
        "if target_iterative != -1:\n",
        "    print(f\"Target element {target} found at index {target_iterative} through iterative Binary Search\")\n",
        "else:\n",
        "    print(f\"Target element {target} is not present in array\")\n",
        "\n",
        "if target_recursive != -1:\n",
        "    print(f\"Target element {target} found at index {target_recursive} through recursive Binary Search\")\n",
        "else:\n",
        "    print(f\"Target element {target} is not present in array\")"
      ],
      "metadata": {
        "colab": {
          "base_uri": "https://localhost:8080/"
        },
        "id": "hGv2c_ao9I6w",
        "outputId": "24a534bd-5196-4ff9-ffbc-92fffd7e57cf"
      },
      "execution_count": null,
      "outputs": [
        {
          "output_type": "stream",
          "name": "stdout",
          "text": [
            "Target element 3 found at index 2 through iterative Binary Search\n",
            "Target element 3 found at index 2 through recursive Binary Search\n"
          ]
        }
      ]
    },
    {
      "cell_type": "markdown",
      "source": [
        "# Date : 22 - 08 - 2024\n",
        "\n",
        "## Classwork submission 2\n",
        "\n",
        "## 1. Implement various sorting algorithms and exercises using sorting algorithms.\n",
        "a) Bubble Sort\n",
        "\n",
        "b) Insertion Sort"
      ],
      "metadata": {
        "id": "_achJRX6-BWC"
      }
    },
    {
      "cell_type": "markdown",
      "source": [
        "## Bubble sort\n",
        "### Algorithm\n",
        "\n",
        "- traverse from left and compare adjacent elements and the higher one is placed at right side.\n",
        "- In this way, the largest element is moved to the rightmost end at first.\n",
        "- This process is then continued to find the second largest and place it and so on until the data is sorted.\n",
        "\n",
        "### Time complexity and space complexity analysis\n",
        "- Time Complexity: O(N2)\n",
        "\n",
        "    In the n passes it will make n - 1 comparisons in the worst case each time. so time complexity is of the order of n^2\n",
        "- Auxiliary Space: O(1)"
      ],
      "metadata": {
        "id": "hMCX1HJdBur-"
      }
    },
    {
      "cell_type": "markdown",
      "source": [
        "\n",
        "code for bubble sort"
      ],
      "metadata": {
        "id": "oj0gaHxiB-iP"
      }
    },
    {
      "cell_type": "code",
      "source": [
        "def bubble_sort(input):\n",
        "    n = len(input)\n",
        "    # we need n - 1 iterations only bcz after the (n - 1)th iteration,\n",
        "    for i in range (n - 1):\n",
        "        # Last i elements are already sorted\n",
        "        for j in range (n - i - 1):\n",
        "            if input[j] > input[j + 1]:\n",
        "                input[j], input[j + 1] = input[j + 1], input[j]"
      ],
      "metadata": {
        "id": "CiKPp0Lu-ihq"
      },
      "execution_count": null,
      "outputs": []
    },
    {
      "cell_type": "markdown",
      "source": [
        "\n",
        "Example usage"
      ],
      "metadata": {
        "id": "MnCpem8QBg1s"
      }
    },
    {
      "cell_type": "code",
      "source": [
        "input = [5,2,1,0,10,-2]\n",
        "bubble_sort(input)\n",
        "print(input)\n"
      ],
      "metadata": {
        "colab": {
          "base_uri": "https://localhost:8080/"
        },
        "id": "KBjNuEil9Osr",
        "outputId": "ff0b6b18-40be-4038-bc76-b5cd36d10f42"
      },
      "execution_count": null,
      "outputs": [
        {
          "output_type": "stream",
          "name": "stdout",
          "text": [
            "[-2, 0, 1, 2, 5, 10]\n"
          ]
        }
      ]
    },
    {
      "cell_type": "markdown",
      "source": [
        "## Insertion Sort\n",
        "### Algorithm:\n",
        "- The first element is always sorted so we start the second element.\n",
        "- Now, we start with the second element and compare it with the sorted part.    We find its correct index in the sorted part\n",
        "- finally we insert it at its correct index\n",
        "- Repeat step 2 and 3 for the elements from `1 to n - 1`\n",
        "\n",
        "### Analysis of time and space complexity\n",
        "**Time complexity** : O(N^2)<br>\n",
        "There are total `n-1` iterations. For each iteration there are n - 1 comparisons in worst case. Thus TC = O(n^2) <br>\n",
        "**Auxiliary Space**: O(1)"
      ],
      "metadata": {
        "id": "s9OquBVXEaqv"
      }
    },
    {
      "cell_type": "markdown",
      "source": [
        "Code for insertion sort"
      ],
      "metadata": {
        "id": "p7ed-tAnLULy"
      }
    },
    {
      "cell_type": "code",
      "source": [
        "def insertion_sort(input):\n",
        "    n = len(input)\n",
        "    for i in range(1, n):\n",
        "        to_insert = input[i]\n",
        "        j = i - 1\n",
        "        while j >= 0 and input[j] > to_insert:\n",
        "            # move the elements grt than the to_insert one position ahead\n",
        "            input[j + 1] =  input[j]\n",
        "            j -= 1\n",
        "        # insert the elem at its correct index i.e  j + 1\n",
        "        input[j + 1] = to_insert\n"
      ],
      "metadata": {
        "id": "YYAyTpyuBkHJ"
      },
      "execution_count": null,
      "outputs": []
    },
    {
      "cell_type": "markdown",
      "source": [
        "\n",
        " Example usage"
      ],
      "metadata": {
        "id": "-jSt2e1BLXGC"
      }
    },
    {
      "cell_type": "code",
      "source": [
        "input = [5,2,1,0,10,-2]\n",
        "insertion_sort(input)\n",
        "print(input)"
      ],
      "metadata": {
        "colab": {
          "base_uri": "https://localhost:8080/"
        },
        "id": "y0lXzpvOHqEa",
        "outputId": "2b16310d-8ae2-4b40-971c-de81896dcf1e"
      },
      "execution_count": null,
      "outputs": [
        {
          "output_type": "stream",
          "name": "stdout",
          "text": [
            "[-2, 0, 1, 2, 5, 10]\n"
          ]
        }
      ]
    },
    {
      "cell_type": "markdown",
      "source": [
        "# Date : 05 - 09 - 2024\n",
        "\n",
        "## Classwork submission 3\n",
        "\n",
        " ## Depth-First Search (DFS) and Breadth-First Search (BFS) Algorithms\n",
        "### Theory:\n",
        "\n",
        "#### Depth-First Search (DFS):\n",
        "1) Write a brief description of the DFS algorithm, including its principles and how it explores a graph.<br>\n",
        "2) Explain the key differences between DFS and BFS.<br>\n",
        "3) Discuss the time complexity and space complexity of DFS in both the adjacency matrix and adjacency list representations.\n",
        "\n",
        "#### 1) **Brief Description of Depth-First Search (DFS):**\n",
        "\n",
        "Depth-First Search (DFS) is a graph traversal algorithm that explores a graph by moving as deep as possible along one branch before backtracking. DFS starts at a given node (often referred to as the *source* or *root*) and explores as far as possible along each branch before retreating. The key idea is to visit a node, mark it as visited, and then recursively explore each of its neighbors. Once all the nodes in one branch are explored, DFS backtracks to explore other branches.\n",
        "\n",
        "DFS can be implemented using either recursion (which naturally uses a call stack) or an explicit stack data structure. The algorithm continues this process until all nodes have been visited.\n",
        "\n",
        "### Principles of DFS:\n",
        "- **LIFO (Last In First Out)** strategy: DFS uses a stack, either implicit (via recursion) or explicit, to store nodes.\n",
        "- **Recursive exploration**: DFS explores a node and recursively visits all of its unvisited adjacent nodes.\n",
        "- **Backtracking**: If a node has no unvisited neighbors, DFS backtracks to the previous node to explore other paths.\n",
        "\n",
        "### 2) **Key Differences Between DFS and BFS:**\n",
        "\n",
        "| **Criteria**                  | **DFS**                                              | **BFS**                                                  |\n",
        "|-------------------------------|------------------------------------------------------|----------------------------------------------------------|\n",
        "| **Exploration Strategy**       | Explores as deep as possible before backtracking     | Explores all neighbors at the current depth level first   |\n",
        "| **Data Structure Used**        | Stack (recursion or explicit)                        | Queue                                                    |\n",
        "| **Traversal Pattern**          | Depth-wise exploration                               | Breadth-wise exploration                                  |\n",
        "| **Path Finding**               | May not always find the shortest path                | Always finds the shortest path in an unweighted graph     |\n",
        "| **Space Complexity**           | Depends on the depth of the graph (can be lower)     | Depends on the width of the graph (can be higher)         |\n",
        "| **Use Case**                   | Useful for topological sorting, detecting cycles, etc.| Ideal for shortest path problems in unweighted graphs     |\n",
        "\n",
        "### 3) **Time and Space Complexity of DFS:**\n",
        "\n",
        "DFS can be represented using two common data structures: an adjacency matrix or an adjacency list.\n",
        "\n",
        "#### **Adjacency Matrix:**\n",
        "An adjacency matrix is a 2D array of size \\( V x V \\) (where \\( V \\) is the number of vertices). If there is an edge between two vertices \\( u \\) and \\( v \\), then \\( matrix[u][v] = 1 \\), otherwise \\( matrix[u][v] = 0 \\).\n",
        "\n",
        "- **Time Complexity**:\n",
        "  - Each vertex has to be visited exactly once, and for each vertex, we check all other vertices to see if an edge exists (i.e., \\( O(V) \\) checks per vertex).\n",
        "  - Therefore, the total time complexity is \\( O(V^2) \\) for DFS in an adjacency matrix.\n",
        "  \n",
        "- **Space Complexity**:\n",
        "  - The adjacency matrix itself takes up \\( O(V^2) \\) space, as it stores all pairwise connections.\n",
        "  - In addition, the recursion stack (or explicit stack) may require up to \\( O(V) \\) space in the worst case.\n",
        "  - Hence, the total space complexity is \\( O(V^2) \\).\n",
        "\n",
        "#### **Adjacency List:**\n",
        "In an adjacency list, each vertex stores a list of adjacent vertices (neighbors). This allows the graph to store only existing edges, making it more space-efficient than the adjacency matrix.\n",
        "\n",
        "- **Time Complexity**:\n",
        "  - DFS visits every vertex and explores all the edges (checking the neighbors). The total number of edges in the graph is \\( E \\), and the total number of vertices is \\( V \\).\n",
        "  - Therefore, the time complexity of DFS in an adjacency list is \\( O(V + 2E) \\), where \\( V \\) is the number of vertices and \\( E \\) is the number of edges.\n",
        "  \n",
        "- **Space Complexity**:\n",
        "  - The adjacency list representation takes \\( O(V + 2E) \\) space to store all vertices and edges.\n",
        "  - Hence, the total space complexity is \\( O(V + 2E) \\).\n",
        "\n",
        "<br><br>\n",
        "\n",
        "\n",
        "---\n",
        "\n",
        "\n",
        "### 1) **Brief Description of Breadth-First Search (BFS):**\n",
        "\n",
        "Breadth-First Search (BFS) is a graph traversal algorithm that explores nodes in a graph level by level, starting from a given source node. It visits all the neighbors of the current node before moving on to the neighbors' neighbors. This process ensures that nodes are visited in increasing order of their distance from the source node. BFS uses a queue data structure to keep track of nodes that need to be explored, which guarantees that nodes are explored in the order they are discovered.\n",
        "\n",
        "### Principles of BFS:\n",
        "- **FIFO (First In First Out)** strategy: BFS uses a queue to process nodes in the order they are discovered.\n",
        "- **Layered exploration**: BFS explores all nodes at the current depth level before moving on to nodes at the next depth level.\n",
        "- **Shortest Path**: In an unweighted graph, BFS guarantees finding the shortest path from the source to any other node.\n",
        "\n",
        "### 2) **Use Cases: When BFS is Preferred Over DFS**\n",
        "\n",
        "BFS is generally preferred over DFS in the following scenarios:\n",
        "\n",
        "- **Shortest Path in an Unweighted Graph**: BFS always finds the shortest path between two nodes in an unweighted graph, while DFS might not.\n",
        "- **Minimum Moves in a Game or Puzzle**: When the objective is to find the fewest moves to reach a goal, BFS is ideal because it explores all possible paths level by level.\n",
        "- **Finding Connected Components in a Graph**: BFS can be used to explore all nodes connected to a starting node, which is useful for identifying connected components in an undirected graph.\n",
        "- **Level-Order Traversal**: BFS is the natural choice for problems that require visiting nodes in level order, such as traversing a binary tree by depth.\n",
        "\n",
        "On the other hand, DFS is preferred for use cases such as topological sorting, cycle detection, or exploring paths deeply first before considering alternate paths.\n",
        "\n",
        "### 3) **Time and Space Complexity of BFS**\n",
        "\n",
        "BFS can be implemented using two common data structures: the adjacency matrix and the adjacency list.\n",
        "\n",
        "#### **Adjacency Matrix:**\n",
        "An adjacency matrix is a 2D array of size \\( V x V \\), where \\( V \\) is the number of vertices. If there is an edge between vertices \\( u \\) and \\( v \\), then \\( matrix[u][v] = 1 \\); otherwise, \\( matrix[u][v] = 0 \\).\n",
        "\n",
        "- **Time Complexity**:\n",
        "  - Each vertex is visited once, and for each vertex, we check all other vertices to see if there is an edge.\n",
        "  - This results in a time complexity of \\( O(V^2) \\), where \\( V \\) is the number of vertices.\n",
        "\n",
        "- **Space Complexity**:\n",
        "  - The adjacency matrix requires \\( O(V^2) \\) space to store all pairwise connections.\n",
        "  - Additionally, the queue used in BFS can store up to \\( O(V) \\) vertices in the worst case.\n",
        "  - Therefore, the total space complexity is \\( O(V^2) \\).\n",
        "\n",
        "#### **Adjacency List:**\n",
        "In an adjacency list, each vertex maintains a list of its neighbors, making it more space-efficient than the adjacency matrix.\n",
        "\n",
        "- **Time Complexity**:\n",
        "  - BFS visits each vertex once and checks all adjacent edges. The time complexity is \\( O(V + E) \\), where \\( V \\) is the number of vertices and \\( E \\) is the number of edges.\n",
        "  \n",
        "- **Space Complexity**:\n",
        "  - The adjacency list itself requires \\( O(V + E) \\) space to store the vertices and their edges.\n",
        "  - The queue used in BFS can store up to \\( O(V) \\) vertices in the worst case.\n",
        "  - Hence, the total space complexity is \\( O(V + E) \\).\n"
      ],
      "metadata": {
        "id": "dD6YzEf-MWmy"
      }
    },
    {
      "cell_type": "markdown",
      "source": [
        "##Graph Implemention using adjacency matrix\n",
        "\n",
        "### Assumptions :<br>\n",
        "- for a graph of size n : the node values are 0, 1,..... (n - 1)\n",
        "- the graph is undirected\n"
      ],
      "metadata": {
        "id": "-C1I8Is6wfgh"
      }
    },
    {
      "cell_type": "code",
      "source": [
        "class GraphAdjMatrix:\n",
        "    def __init__(self, num_vertices):\n",
        "        self.num_vertices = num_vertices\n",
        "        # initialise the adjacency matrix\n",
        "        self.adjmatrix = [[0 for _ in range (num_vertices)] for _ in range(num_vertices)]\n",
        "\n",
        "    def add_edge(self, u, v):\n",
        "        # add the connection\n",
        "        self.adjmatrix[u][v] = 1\n",
        "        self.adjmatrix[v][u] = 1\n",
        "\n",
        "    def print_graph(self):\n",
        "        for row in self.adjmatrix:\n",
        "            print(row)\n"
      ],
      "metadata": {
        "id": "7gTfwL3THr4V"
      },
      "execution_count": null,
      "outputs": []
    },
    {
      "cell_type": "markdown",
      "source": [
        "\n",
        "Example usage"
      ],
      "metadata": {
        "id": "gwm6iUedNbp3"
      }
    },
    {
      "cell_type": "code",
      "source": [
        "graph = GraphAdjMatrix(4)\n",
        "graph.add_edge(0, 1)\n",
        "graph.add_edge(0, 2)\n",
        "graph.add_edge(2, 1)\n",
        "graph.add_edge(3, 1)\n",
        "\n",
        "graph.print_graph()"
      ],
      "metadata": {
        "colab": {
          "base_uri": "https://localhost:8080/"
        },
        "id": "x7ao1hUBNZEN",
        "outputId": "2c78e2db-f657-48e5-d8d2-28056a5b2966"
      },
      "execution_count": null,
      "outputs": [
        {
          "output_type": "stream",
          "name": "stdout",
          "text": [
            "1\n",
            "[0, 1, 1, 0]\n",
            "[1, 0, 1, 1]\n",
            "[1, 1, 0, 0]\n",
            "[0, 1, 0, 0]\n"
          ]
        }
      ]
    },
    {
      "cell_type": "markdown",
      "source": [
        "## Graph Implemention using adjacency list"
      ],
      "metadata": {
        "id": "4VKCNzznLQql"
      }
    },
    {
      "cell_type": "code",
      "source": [
        "class GraphList:\n",
        "    def __init__(self, num_vertices):\n",
        "        self.num_vertices = num_vertices\n",
        "        self.adjList = [[] for _ in range(num_vertices)]\n",
        "\n",
        "    def add_edge(self, u, v):\n",
        "        self.adjList[u].append(v)\n",
        "        self.adjList[v].append(u)\n",
        "\n",
        "    def print_graph(self):\n",
        "        for vertex in range(self.num_vertices):\n",
        "            print(f\"{vertex}: {self.adjList[vertex]}\")"
      ],
      "metadata": {
        "id": "T3Vw_bKvJL7m"
      },
      "execution_count": null,
      "outputs": []
    },
    {
      "cell_type": "markdown",
      "source": [
        " Example usage"
      ],
      "metadata": {
        "id": "4sbr6Zj8Nht8"
      }
    },
    {
      "cell_type": "code",
      "source": [
        "graph = GraphList(4)\n",
        "graph.add_edge(0, 1)\n",
        "graph.add_edge(0, 2)\n",
        "graph.add_edge(2, 1)\n",
        "graph.add_edge(3, 1)\n",
        "\n",
        "graph.print_graph()"
      ],
      "metadata": {
        "colab": {
          "base_uri": "https://localhost:8080/"
        },
        "id": "cS-CBYlyNjw5",
        "outputId": "813f90c1-e823-4da4-a549-8956162af301"
      },
      "execution_count": null,
      "outputs": [
        {
          "output_type": "stream",
          "name": "stdout",
          "text": [
            "0: [1, 2]\n",
            "1: [0, 2, 3]\n",
            "2: [0, 1]\n",
            "3: [1]\n"
          ]
        }
      ]
    },
    {
      "cell_type": "markdown",
      "source": [
        "## DFS Implementation:\n",
        "- Write a function to perform DFS on the graph starting from a given node.  \n",
        "  \n",
        "- Implement the recursive and iterative versions of DFS.\n",
        "- Input: An n x n adjacency matrix or an adjacency list, and a starting node.\n",
        "- Output: A list of nodes visited in the order they were first visited.\n",
        "\n",
        "### Note :: All the implementations for now on are done using adjacency matrix"
      ],
      "metadata": {
        "id": "22NTrOn4OoMc"
      }
    },
    {
      "cell_type": "code",
      "source": [
        "class GraphAdjMatrix:\n",
        "    def __init__(self, num_vertices):\n",
        "        self.num_vertices = num_vertices\n",
        "        # initialise the adjacency matrix\n",
        "        self.adjmatrix = [[0 for _ in range (num_vertices)] for _ in range(num_vertices)]\n",
        "\n",
        "    def add_edge(self, u, v):\n",
        "        # add the connection\n",
        "        self.adjmatrix[u][v] = 1\n",
        "        self.adjmatrix[v][u] = 1\n",
        "\n",
        "    def dfs(self):\n",
        "        dfs_ans = []\n",
        "        visited = [False for _ in range(self.num_vertices)]\n",
        "        # this loop ensures that we visit all the connected components\n",
        "        for i in range(self.num_vertices):\n",
        "            if not visited[i]:\n",
        "                ans = []\n",
        "                # exploring one connected component\n",
        "                dfs_ans.append(self.dfs_helper(visited, i, ans))\n",
        "        return dfs_ans\n",
        "\n",
        "    def dfs_helper(self, visited, curr_vertex, ans):\n",
        "        visited[curr_vertex] = True\n",
        "        ans.append(curr_vertex)\n",
        "        for i in range(self.num_vertices):\n",
        "            if self.adjmatrix[curr_vertex][i] == 1 and not visited[i]:\n",
        "                self.dfs_helper(visited, i, ans)\n",
        "        return ans\n",
        "\n",
        "\n",
        "    # <-- ITERATIVE VERSION -->\n",
        "    def dfs_iterative(self):\n",
        "        dfs_ans = []\n",
        "        visited = [False for _ in range(self.num_vertices)]\n",
        "        # this loop ensures that we visit all the connected components\n",
        "        for i in range(self.num_vertices):\n",
        "            # check if all the vertices are traversed\n",
        "            if not visited[i]:\n",
        "                ans = []\n",
        "                # exploring one connected component\n",
        "                dfs_ans.append(self.dfs_iterative_helper(i, visited, ans))\n",
        "        return dfs_ans\n",
        "\n",
        "    def dfs_iterative_helper(self, i, visited, ans):\n",
        "        stack = [i]\n",
        "        ans = []\n",
        "\n",
        "        while stack:\n",
        "            vertex = stack.pop()\n",
        "            if not visited[vertex]:\n",
        "                visited[vertex] = True\n",
        "                ans.append(vertex)\n",
        "                # Add adjacent vertices in reverse order to visit them in correct order\n",
        "                for i in reversed(range(self.num_vertices)):\n",
        "                    if self.adjmatrix[vertex][i] == 1 and not visited[i]:\n",
        "                        stack.append(i)\n",
        "        return ans\n",
        "\n",
        "\n"
      ],
      "metadata": {
        "id": "SuurgpZKN1Sv"
      },
      "execution_count": null,
      "outputs": []
    },
    {
      "cell_type": "code",
      "source": [
        "graph = GraphAdjMatrix(10)\n",
        "graph.add_edge(0, 4)\n",
        "graph.add_edge(0, 2)\n",
        "graph.add_edge(0, 3)\n",
        "graph.add_edge(4, 5)\n",
        "graph.add_edge(5, 1)\n",
        "graph.add_edge(2, 1)\n",
        "graph.add_edge(3, 6)\n",
        "graph.add_edge(9, 8)\n",
        "graph.add_edge(9, 7)\n",
        "\n",
        "\n",
        "dfs = graph.dfs()\n",
        "print(f\"recursive dfs traversal: {dfs}\")\n",
        "dfs_i = graph.dfs_iterative()\n",
        "print(f\"iterative dfs traversal: {dfs_i}\")"
      ],
      "metadata": {
        "colab": {
          "base_uri": "https://localhost:8080/"
        },
        "id": "mVTVMtONTT6L",
        "outputId": "d8767127-23f4-4637-971b-de5cb56e1225"
      },
      "execution_count": null,
      "outputs": [
        {
          "output_type": "stream",
          "name": "stdout",
          "text": [
            "recursive dfs traversal: [[0, 2, 1, 5, 4, 3, 6], [7, 9, 8]]\n",
            "iterative dfs traversal: [[0, 2, 1, 5, 4, 3, 6], [7, 9, 8]]\n"
          ]
        }
      ]
    },
    {
      "cell_type": "markdown",
      "source": [
        "## BFS Implementation\n",
        "- Write a function to perform BFS on the graph starting from a given node.\n",
        "- Input: An n x n adjacency matrix or an adjacency list, and a starting node.\n",
        "- Output: A list of nodes visited in the order they were first visited."
      ],
      "metadata": {
        "id": "VRFAJIA-kLuJ"
      }
    },
    {
      "cell_type": "code",
      "source": [
        "from collections import deque\n",
        "\n",
        "class GraphAdjMatrix:\n",
        "    def __init__(self, num_vertices):\n",
        "        self.num_vertices = num_vertices\n",
        "        # initialise the adjacency matrix\n",
        "        self.adjmatrix = [[0 for _ in range (num_vertices)] for _ in range(num_vertices)]\n",
        "\n",
        "    def add_edge(self, u, v):\n",
        "        # add the connection\n",
        "        self.adjmatrix[u][v] = 1\n",
        "        self.adjmatrix[v][u] = 1\n",
        "\n",
        "    def bfs(self):\n",
        "        bfs_ans = []\n",
        "        pending = deque()\n",
        "        visited = [False for _ in range(self.num_vertices)]\n",
        "        for i in range (self.num_vertices):\n",
        "            if not visited[i]:\n",
        "                visited[i] = True\n",
        "                pending.append(i)\n",
        "            while pending:\n",
        "                current_index = pending.popleft()\n",
        "                bfs_ans.append(current_index)\n",
        "                # visit the children\n",
        "                for j in range(self.num_vertices):\n",
        "                    # instead of exploring the children till the last node, add them in queue\n",
        "                    if self.adjmatrix[current_index][j] == 1 and not visited[j]:\n",
        "                        pending.append(j)\n",
        "                        visited[j] = True\n",
        "\n",
        "\n",
        "        return bfs_ans\n",
        "\n",
        "\n",
        "\n",
        "        return bfs_ans\n"
      ],
      "metadata": {
        "id": "Be0ENS8cUSoM"
      },
      "execution_count": null,
      "outputs": []
    },
    {
      "cell_type": "code",
      "source": [
        "graph = GraphAdjMatrix(10)\n",
        "graph.add_edge(0, 4)\n",
        "graph.add_edge(0, 2)\n",
        "graph.add_edge(0, 3)\n",
        "graph.add_edge(4, 5)\n",
        "graph.add_edge(5, 1)\n",
        "graph.add_edge(2, 1)\n",
        "graph.add_edge(3, 6)\n",
        "graph.add_edge(9, 8)\n",
        "graph.add_edge(9, 7)\n",
        "\n",
        "\n",
        "bfs = graph.bfs()\n",
        "print(f\"bfs traversal: {bfs}\")"
      ],
      "metadata": {
        "colab": {
          "base_uri": "https://localhost:8080/"
        },
        "id": "mey6mDGQn_N4",
        "outputId": "c19d2b94-1444-4f39-a048-4f1d043a451d"
      },
      "execution_count": null,
      "outputs": [
        {
          "output_type": "stream",
          "name": "stdout",
          "text": [
            "bfs traversal: [0, 2, 3, 4, 1, 6, 5, 7, 9, 8]\n"
          ]
        }
      ]
    },
    {
      "cell_type": "markdown",
      "source": [
        "## Shortest Path Calculation:\n",
        "- Implement a function using BFS to find the shortest path from the starting node to all other nodes in the graph.\n",
        "- Input: An n x n adjacency matrix or an adjacency list, and a starting node.\n",
        "- Output: A dictionary where keys are nodes and values are the shortest path lengths from the starting node.\n"
      ],
      "metadata": {
        "id": "0j0RabbZJkHq"
      }
    },
    {
      "cell_type": "code",
      "source": [
        "from collections import deque\n",
        "\n",
        "class GraphAdjMatrix:\n",
        "    def __init__(self, num_vertices):\n",
        "        self.num_vertices = num_vertices\n",
        "        # initialise the adjacency matrix\n",
        "        self.adjmatrix = [[0 for _ in range (num_vertices)] for _ in range(num_vertices)]\n",
        "\n",
        "    def add_edge(self, u, v):\n",
        "        # add the connection\n",
        "        self.adjmatrix[u][v] = 1\n",
        "        self.adjmatrix[v][u] = 1\n",
        "\n",
        "# get_path gives the shortest path between source and destination\n",
        "    def get_path(self, s, d):\n",
        "        visited = [False for _ in range(self.num_vertices)]\n",
        "        pending = deque()\n",
        "        child_parent_map = {}\n",
        "        path = []\n",
        "\n",
        "        if s > self.num_vertices or d > self.num_vertices:\n",
        "            return []\n",
        "\n",
        "        # check if direct path exists\n",
        "        if self.adjmatrix[s][d] == 1:\n",
        "            path.append(s)\n",
        "            path.append(d)\n",
        "            return path\n",
        "\n",
        "        pending.append(s)\n",
        "        visited[s] = True\n",
        "\n",
        "        while pending:\n",
        "            curr_vertex = pending.popleft()\n",
        "            # explore the children of curr vertex\n",
        "            for i in range (self.num_vertices):\n",
        "                if (self.adjmatrix[curr_vertex][i] == 1 and not visited[i]):\n",
        "                    pending.append(i)\n",
        "                    visited[i] = True\n",
        "                    child_parent_map[i] = curr_vertex\n",
        "\n",
        "                    if i == d:\n",
        "                        path.append(i)\n",
        "                        value = child_parent_map[i]\n",
        "                        while (value != s):\n",
        "                            path.append(value)\n",
        "                            value = child_parent_map[value]\n",
        "\n",
        "        path.append(s)\n",
        "        return path[::-1]\n",
        "\n",
        "# use the prev func \"get_path\" to get the path of all the vertices from the source\n",
        "    def get_all_paths(self, s):\n",
        "        all_paths = {}\n",
        "        for i in range(self.num_vertices):\n",
        "            path = self.get_path(s, i)\n",
        "            all_paths[i] = path\n",
        "        return all_paths\n"
      ],
      "metadata": {
        "id": "a7xV6J1AoF9K"
      },
      "execution_count": null,
      "outputs": []
    },
    {
      "cell_type": "markdown",
      "source": [
        " Some visuals of my input graph"
      ],
      "metadata": {
        "id": "J-rYpvM3SPDU"
      }
    },
    {
      "cell_type": "code",
      "source": [
        "import networkx as nx\n",
        "import matplotlib.pyplot as plt\n",
        "\n",
        "G = nx.Graph()\n",
        "\n",
        "edges = [(0, 4), (0, 2), (0, 3), (4, 5), (5, 1), (2, 1), (3, 6), (9, 8), (9, 7), (10, 11)]\n",
        "G.add_edges_from(edges)\n",
        "\n",
        "plt.figure(figsize=(5, 3))\n",
        "nx.draw(G, with_labels=True, node_color='skyblue', node_size=265, font_size=9, font_color='black', edge_color='gray')\n",
        "\n",
        "plt.show()\n"
      ],
      "metadata": {
        "colab": {
          "base_uri": "https://localhost:8080/",
          "height": 337
        },
        "id": "CLwla1KARVH6",
        "outputId": "8e4ce2cc-3888-4848-e952-2d34dd27d448"
      },
      "execution_count": null,
      "outputs": [
        {
          "output_type": "display_data",
          "data": {
            "text/plain": [
              "<Figure size 500x300 with 1 Axes>"
            ],
            "image/png": "[encoded data removed]"
          },
          "metadata": {}
        }
      ]
    },
    {
      "cell_type": "markdown",
      "source": [
        "\n",
        " **Example usage<br>**\n",
        " printing the shortest path from node \"0\" to all nodes"
      ],
      "metadata": {
        "id": "W4SwMXY3Ruay"
      }
    },
    {
      "cell_type": "code",
      "source": [
        "graph = GraphAdjMatrix(12)\n",
        "# connected component 1\n",
        "graph.add_edge(0, 4)\n",
        "graph.add_edge(0, 2)\n",
        "graph.add_edge(0, 3)\n",
        "graph.add_edge(4, 5)\n",
        "graph.add_edge(5, 1)\n",
        "graph.add_edge(2, 1)\n",
        "graph.add_edge(3, 6)\n",
        "# connected component 2\n",
        "graph.add_edge(9, 8)\n",
        "graph.add_edge(9, 7)\n",
        "graph.add_edge(10, 11)\n",
        "# connected component 3\n",
        "graph.get_all_paths(0)"
      ],
      "metadata": {
        "colab": {
          "base_uri": "https://localhost:8080/"
        },
        "id": "E87EPDvlOY87",
        "outputId": "2ac81813-2569-42a9-c66b-b22cac287ab3"
      },
      "execution_count": null,
      "outputs": [
        {
          "output_type": "execute_result",
          "data": {
            "text/plain": [
              "{0: [0],\n",
              " 1: [0, 2, 1],\n",
              " 2: [0, 2],\n",
              " 3: [0, 3],\n",
              " 4: [0, 4],\n",
              " 5: [0, 4, 5],\n",
              " 6: [0, 3, 6],\n",
              " 7: [0],\n",
              " 8: [0],\n",
              " 9: [0],\n",
              " 10: [0],\n",
              " 11: [0]}"
            ]
          },
          "metadata": {},
          "execution_count": 53
        }
      ]
    },
    {
      "cell_type": "markdown",
      "source": [
        "## Practical Problems:\n",
        "\n",
        "### Connected Components:\n",
        "- Use DFS to find and list all connected components in an undirected graph.\n",
        "- Input: An n x n adjacency matrix or an adjacency list.\n",
        "- Output: A list of lists where each sublist represents a connected component."
      ],
      "metadata": {
        "id": "GoHprwW1Spih"
      }
    },
    {
      "cell_type": "code",
      "source": [
        "class GraphAdjMatrix:\n",
        "    def __init__(self, num_vertices):\n",
        "        self.num_vertices = num_vertices\n",
        "        # initialise the adjacency matrix\n",
        "        self.adjmatrix = [[0 for _ in range (num_vertices)] for _ in range(num_vertices)]\n",
        "\n",
        "    def add_edge(self, u, v):\n",
        "        # add the connection\n",
        "        self.adjmatrix[u][v] = 1\n",
        "        self.adjmatrix[v][u] = 1\n",
        "\n",
        "    def dfs(self):\n",
        "        dfs_ans = []\n",
        "        visited = [False for _ in range(self.num_vertices)]\n",
        "        # this loop ensures that we visit all the connected components\n",
        "        for i in range(self.num_vertices):\n",
        "            if not visited[i]:\n",
        "                ans = []\n",
        "                # exploring one connected component\n",
        "                dfs_ans.append(self.dfs_helper(visited, i, ans))\n",
        "        return dfs_ans\n",
        "\n",
        "    def dfs_helper(self, visited, curr_vertex, ans):\n",
        "        visited[curr_vertex] = True\n",
        "        ans.append(curr_vertex)\n",
        "        for i in range(self.num_vertices):\n",
        "            if self.adjmatrix[curr_vertex][i] == 1 and not visited[i]:\n",
        "                self.dfs_helper(visited, i, ans)\n",
        "        return ans"
      ],
      "metadata": {
        "id": "b4FQr19nOwvF"
      },
      "execution_count": null,
      "outputs": []
    },
    {
      "cell_type": "code",
      "source": [
        "graph = GraphAdjMatrix(12)\n",
        "graph.add_edge(0, 4)\n",
        "graph.add_edge(0, 2)\n",
        "graph.add_edge(0, 3)\n",
        "graph.add_edge(4, 5)\n",
        "graph.add_edge(5, 1)\n",
        "graph.add_edge(2, 1)\n",
        "graph.add_edge(3, 6)\n",
        "graph.add_edge(9, 8)\n",
        "graph.add_edge(9, 7)\n",
        "graph.add_edge(10, 11)\n",
        "graph.dfs()"
      ],
      "metadata": {
        "colab": {
          "base_uri": "https://localhost:8080/"
        },
        "id": "WJ4u541oTHgq",
        "outputId": "a2d7ed34-79b7-4cb2-b10e-16c0b7579c15"
      },
      "execution_count": null,
      "outputs": [
        {
          "output_type": "execute_result",
          "data": {
            "text/plain": [
              "[[0, 2, 1, 5, 4, 3, 6], [7, 9, 8], [10, 11]]"
            ]
          },
          "metadata": {},
          "execution_count": 36
        }
      ]
    },
    {
      "cell_type": "markdown",
      "source": [
        "# Date : 03 -10 -2024\n",
        "### classwork assignment 4(a)\n",
        "\n",
        "\n"
      ],
      "metadata": {
        "id": "gF57KboWBlzr"
      }
    },
    {
      "cell_type": "markdown",
      "source": [
        "## Maximum Sum Subarray"
      ],
      "metadata": {
        "id": "13wgILIgQmoK"
      }
    },
    {
      "cell_type": "markdown",
      "source": [
        "\n",
        "### **1) Brute Force**\n",
        "\n",
        "## Working\n",
        "### Input `[-2,1,-3,4,-1,2,1,-5,4]`\n",
        "\n",
        "#### Initial State\n",
        "- `maxsum = -inf`\n",
        "- `maxsumsubarray = []`\n",
        "\n",
        "---\n",
        "\n",
        "### Step 1: `i = 0`\n",
        "- `currSum = 0`\n",
        "- **j = 0** → `currSum = -2`\n",
        "    - `currSum > maxsum` → Update `maxsum = -2`, `maxsumsubarray = [-2]`\n",
        "- **j = 1** → `currSum = -1`\n",
        "    - `currSum > maxsum` → Update `maxsum = -1`, `maxsumsubarray = [-2, 1]`\n",
        "- **j = 2** → `currSum = -4`\n",
        "- **j = 3** → `currSum = 0`\n",
        "    - `currSum > maxsum` → Update `maxsum = 0`, `maxsumsubarray = [-2, 1, -3, 4]`\n",
        "- **j = 4** → `currSum = -1`\n",
        "- **j = 5** → `currSum = 1`\n",
        "    - `currSum > maxsum` → Update `maxsum = 1`, `maxsumsubarray = [-2, 1, -3, 4, -1, 2]`\n",
        "- **j = 6** → `currSum = 2`\n",
        "    - `currSum > maxsum` → Update `maxsum = 2`, `maxsumsubarray = [-2, 1, -3, 4, -1, 2, 1]`\n",
        "- **j = 7** → `currSum = -3`\n",
        "- **j = 8** → `currSum = 1`\n",
        "\n",
        "---\n",
        "\n",
        "### Step 2: `i = 1`\n",
        "- `currSum = 0`\n",
        "- **j = 1** → `currSum = 1`\n",
        "- **j = 2** → `currSum = -2`\n",
        "- **j = 3** → `currSum = 2`\n",
        "    - `currSum > maxsum` → Update `maxsum = 2`, `maxsumsubarray = [1, -3, 4]`\n",
        "- **j = 4** → `currSum = 1`\n",
        "- **j = 5** → `currSum = 3`\n",
        "    - `currSum > maxsum` → Update `maxsum = 3`, `maxsumsubarray = [1, -3, 4, -1, 2]`\n",
        "- **j = 6** → `currSum = 4`\n",
        "    - `currSum > maxsum` → Update `maxsum = 4`, `maxsumsubarray = [1, -3, 4, -1, 2, 1]`\n",
        "- **j = 7** → `currSum = -1`\n",
        "- **j = 8** → `currSum = 3`\n",
        "\n",
        "---\n",
        "\n",
        "### Step 3: `i = 2`\n",
        "- `currSum = 0`\n",
        "- **j = 2** → `currSum = -3`\n",
        "- **j = 3** → `currSum = 1`\n",
        "- **j = 4** → `currSum = 0`\n",
        "- **j = 5** → `currSum = 2`\n",
        "- **j = 6** → `currSum = 3`\n",
        "- **j = 7** → `currSum = -2`\n",
        "- **j = 8** → `currSum = 2`\n",
        "\n",
        "---\n",
        "\n",
        "### Step 4: `i = 3`\n",
        "- `currSum = 0`\n",
        "- **j = 3** → `currSum = 4`\n",
        "    - `currSum > maxsum` → Update `maxsum = 4`, `maxsumsubarray = [4]`\n",
        "- **j = 4** → `currSum = 3`\n",
        "- **j = 5** → `currSum = 5`\n",
        "    - `currSum > maxsum` → Update `maxsum = 5`, `maxsumsubarray = [4, -1, 2]`\n",
        "- **j = 6** → `currSum = 6`\n",
        "    - `currSum > maxsum` → Update `maxsum = 6`, `maxsumsubarray = [4, -1, 2, 1]`\n",
        "- **j = 7** → `currSum = 1`\n",
        "- **j = 8** → `currSum = 5`\n",
        "\n",
        "---\n",
        "\n",
        "### Step 5: `i = 4`\n",
        "- `currSum = 0`\n",
        "- **j = 4** → `currSum = -1`\n",
        "- **j = 5** → `currSum = 1`\n",
        "- **j = 6** → `currSum = 2`\n",
        "- **j = 7** → `currSum = -3`\n",
        "- **j = 8** → `currSum = 1`\n",
        "\n",
        "---\n",
        "\n",
        "### Step 6: `i = 5`\n",
        "- `currSum = 0`\n",
        "- **j = 5** → `currSum = 2`\n",
        "- **j = 6** → `currSum = 3`\n",
        "- **j = 7** → `currSum = -2`\n",
        "- **j = 8** → `currSum = 2`\n",
        "\n",
        "---\n",
        "\n",
        "### Step 7: `i = 6`\n",
        "- `currSum = 0`\n",
        "- **j = 6** → `currSum = 1`\n",
        "- **j = 7** → `currSum = -4`\n",
        "- **j = 8** → `currSum = 0`\n",
        "\n",
        "---\n",
        "\n",
        "### Step 8: `i = 7`\n",
        "- `currSum = 0`\n",
        "- **j = 7** → `currSum = -5`\n",
        "- **j = 8** → `currSum = -1`\n",
        "\n",
        "---\n",
        "\n",
        "### Step 9: `i = 8`\n",
        "- `currSum = 0`\n",
        "- **j = 8** → `currSum = 4`\n",
        "\n",
        "---\n",
        "\n",
        "### Final Result:\n",
        "The maximum sum is `6`, and the corresponding subarray is `[4, -1, 2, 1]`.\n"
      ],
      "metadata": {
        "id": "WCm4fWKZE8i4"
      }
    },
    {
      "cell_type": "code",
      "source": [
        "import math\n",
        "\n",
        "def maxSumSubarray(input):\n",
        "    maxsum = math.inf * -1;\n",
        "    maxsumsubarray = []\n",
        "    for i in range(len(input)):\n",
        "        currSum = 0\n",
        "        for j in range (i, len(input)):\n",
        "            currSum += input[j];\n",
        "            if currSum > maxsum :\n",
        "                maxsumsubarray = input[i:j + 1]\n",
        "                maxsum = currSum\n",
        "    return maxsumsubarray"
      ],
      "metadata": {
        "id": "VnnpuPtLTLji"
      },
      "execution_count": null,
      "outputs": []
    },
    {
      "cell_type": "code",
      "source": [
        "input = [-2,1,-3,4,-1,2,1,-5,4]\n",
        "print(f\"The subarray with the maximum sum is {maxSumSubarray(input)}\")"
      ],
      "metadata": {
        "colab": {
          "base_uri": "https://localhost:8080/"
        },
        "id": "Ib-R1ZCyD-hu",
        "outputId": "02b3b485-cd7a-4fbc-97a6-7bc9db77392e"
      },
      "execution_count": null,
      "outputs": [
        {
          "output_type": "stream",
          "name": "stdout",
          "text": [
            "The subarray with the maximum sum is [4, -1, 2, 1]\n"
          ]
        }
      ]
    },
    {
      "cell_type": "markdown",
      "source": [
        "### **2) Sliding Window**\n",
        "\n",
        "\n",
        " ### Working\n",
        " Input `[-2,1,-3,4,-1,2,1,-5,4]`\n",
        "\n",
        "#### Initial State\n",
        "- `maxSum = -inf`\n",
        "- `left = 0`, `right = 0`, `currSum = 0`, `n = 9`\n",
        "- `maxsumsubarray = []`\n",
        "\n",
        "---\n",
        "\n",
        "### Step 1: `right = 0`\n",
        "- `currSum += input[0]` → `currSum = -2`\n",
        "- `currSum > maxSum` → Update `maxSum = -2`, `maxsumsubarray = [-2]`\n",
        "- Since `currSum < 0`, reset `currSum = 0` and update `left = 1`\n",
        "- Increment `right = 1`\n",
        "\n",
        "---\n",
        "\n",
        "### Step 2: `right = 1`\n",
        "- `currSum += input[1]` → `currSum = 1`\n",
        "- `currSum > maxSum` → Update `maxSum = 1`, `maxsumsubarray = [1]`\n",
        "- `currSum >= 0` → No reset\n",
        "- Increment `right = 2`\n",
        "\n",
        "---\n",
        "\n",
        "### Step 3: `right = 2`\n",
        "- `currSum += input[2]` → `currSum = -2`\n",
        "- `currSum <= maxSum` → No update to `maxSum`\n",
        "- Since `currSum < 0`, reset `currSum = 0` and update `left = 3`\n",
        "- Increment `right = 3`\n",
        "\n",
        "---\n",
        "\n",
        "### Step 4: `right = 3`\n",
        "- `currSum += input[3]` → `currSum = 4`\n",
        "- `currSum > maxSum` → Update `maxSum = 4`, `maxsumsubarray = [4]`\n",
        "- `currSum >= 0` → No reset\n",
        "- Increment `right = 4`\n",
        "\n",
        "---\n",
        "\n",
        "### Step 5: `right = 4`\n",
        "- `currSum += input[4]` → `currSum = 3`\n",
        "- `currSum <= maxSum` → No update to `maxSum`\n",
        "- `currSum >= 0` → No reset\n",
        "- Increment `right = 5`\n",
        "\n",
        "---\n",
        "\n",
        "### Step 6: `right = 5`\n",
        "- `currSum += input[5]` → `currSum = 5`\n",
        "- `currSum > maxSum` → Update `maxSum = 5`, `maxsumsubarray = [4, -1, 2]`\n",
        "- `currSum >= 0` → No reset\n",
        "- Increment `right = 6`\n",
        "\n",
        "---\n",
        "\n",
        "### Step 7: `right = 6`\n",
        "- `currSum += input[6]` → `currSum = 6`\n",
        "- `currSum > maxSum` → Update `maxSum = 6`, `maxsumsubarray = [4, -1, 2, 1]`\n",
        "- `currSum >= 0` → No reset\n",
        "- Increment `right = 7`\n",
        "\n",
        "---\n",
        "\n",
        "### Step 8: `right = 7`\n",
        "- `currSum += input[7]` → `currSum = 1`\n",
        "- `currSum <= maxSum` → No update to `maxSum`\n",
        "- `currSum >= 0` → No reset\n",
        "- Increment `right = 8`\n",
        "\n",
        "---\n",
        "\n",
        "### Step 9: `right = 8`\n",
        "- `currSum += input[8]` → `currSum = 5`\n",
        "- `currSum <= maxSum` → No update to `maxSum`\n",
        "- `currSum >= 0` → No reset\n",
        "- Increment `right = 9` (end of array)\n",
        "\n",
        "---\n",
        "\n",
        "### Final Result:\n",
        "The maximum sum is `6`, and the corresponding subarray is `[4, -1, 2, 1]`.\n"
      ],
      "metadata": {
        "id": "42dKyJE7FJIx"
      }
    },
    {
      "cell_type": "code",
      "source": [
        "import math\n",
        "def maxSumSubarraySlidingWindow(input):\n",
        "    maxSum = float(-math.inf);\n",
        "    left, right, currSum, n =  0, 0, 0, len(input)\n",
        "    maxsumsubarray = []\n",
        "    while (right < n):\n",
        "        currSum += input[right]\n",
        "        if(currSum > maxSum):\n",
        "            maxSum = currSum\n",
        "            maxsumsubarray = input[left : right + 1]\n",
        "\n",
        "        if(currSum < 0):\n",
        "            currSum = 0\n",
        "            left = right + 1\n",
        "\n",
        "        right += 1\n",
        "    return maxsumsubarray"
      ],
      "metadata": {
        "id": "GEvHNUK1ENhn"
      },
      "execution_count": null,
      "outputs": []
    },
    {
      "cell_type": "code",
      "source": [
        "input = [-2,1,-3,4,-1,2,1,-5,4]\n",
        "print(f\"The subarray with the maximum sum is {maxSumSubarraySlidingWindow(input)}\")"
      ],
      "metadata": {
        "colab": {
          "base_uri": "https://localhost:8080/"
        },
        "id": "oA7lXsAJHWDD",
        "outputId": "1c5fbb92-162b-40ca-a711-d59d84ee77db"
      },
      "execution_count": null,
      "outputs": [
        {
          "output_type": "stream",
          "name": "stdout",
          "text": [
            "The subarray with the maximum sum is [4, -1, 2, 1]\n"
          ]
        }
      ]
    },
    {
      "cell_type": "markdown",
      "source": [
        "# 17 - 10 - 2024\n"
      ],
      "metadata": {
        "id": "cUAtG3I2XZk4"
      }
    },
    {
      "cell_type": "markdown",
      "source": [
        "## Huffman encoding\n",
        "\n",
        "### Steps for building the Huffman Tree:<br>\n",
        "1) Create a priority queue where each character and its frequency are treated as a node. The node with the lowest frequency gets the highest priority.<br>\n",
        "2) Combine nodes: Extract two nodes with the smallest frequencies, create a new node with their combined frequency, and assign it back to the queue.<br>\n",
        "3) Repeat this process until only one node remains, which is the root of the Huffman tree.<br>\n",
        "4) Generate the codes: Traverse the tree, assigning a 0 for left branches and a 1 for right branches, thus generating the Huffman codes for each character."
      ],
      "metadata": {
        "id": "lO5OMyLfeoIa"
      }
    },
    {
      "cell_type": "code",
      "source": [
        "import heapq\n",
        "\n",
        "class Node:\n",
        "    def __init__(self, freq, symbol = None, left=None, right=None):\n",
        "        self.freq = freq\n",
        "        self.symbol= symbol\n",
        "        self.left = left\n",
        "        self.right = right\n",
        "\n",
        "    def __lt__(self, other):\n",
        "        return self.freq < other.freq\n",
        "\n",
        "def huffman(chars, freq):\n",
        "    pq = [Node(freq = frequency, symbol = char) for char, frequency in zip(chars, freq)]\n",
        "    heapq.heapify(pq)\n",
        "\n",
        "    # building the huffman tree\n",
        "    while len(pq) > 1:\n",
        "        # extract the two nodes with the smallest freq from pq\n",
        "        leftChild = heapq.heappop(pq)\n",
        "        rightChild = heapq.heappop(pq)\n",
        "        # push the merged node into pq\n",
        "        mergedNode = Node(freq = leftChild.freq + rightChild.freq, left = leftChild, right = rightChild)\n",
        "        heapq.heappush(pq, mergedNode)\n",
        "\n",
        "    # return the last node in heap which is the root\n",
        "    return heapq.heappop(pq)\n",
        "\n",
        "\n",
        "# print the huffman codes using the tree\n",
        "def getHuffmanCodes(root, code = \"\"):\n",
        "    if root is None:\n",
        "        return\n",
        "    # print the code on reaching a leaf node\n",
        "    if root.symbol is not None:\n",
        "        print(f\"symbol : {root.symbol} --> code : {code}\")\n",
        "    getHuffmanCodes(root.left, code + \"0\")\n",
        "    getHuffmanCodes(root.right, code + \"1\")\n",
        "\n",
        "#  example\n",
        "chars = ['a', 'b', 'd', 'e', 'f', 'z']\n",
        "freq = [6, 10, 1, 5, 8, 3]\n",
        "root = huffman(chars, freq)\n",
        "getHuffmanCodes(root)"
      ],
      "metadata": {
        "id": "cMf_9h_zHXit",
        "colab": {
          "base_uri": "https://localhost:8080/"
        },
        "outputId": "b74b3cfc-5a46-4ae2-f61a-67a0bc6f8441"
      },
      "execution_count": null,
      "outputs": [
        {
          "output_type": "stream",
          "name": "stdout",
          "text": [
            "symbol : a --> code : 00\n",
            "symbol : f --> code : 01\n",
            "symbol : d --> code : 1000\n",
            "symbol : z --> code : 1001\n",
            "symbol : e --> code : 101\n",
            "symbol : b --> code : 11\n"
          ]
        }
      ]
    },
    {
      "cell_type": "code",
      "source": [],
      "metadata": {
        "id": "KIiTWuzcEeku"
      },
      "execution_count": null,
      "outputs": []
    }
  ]
}